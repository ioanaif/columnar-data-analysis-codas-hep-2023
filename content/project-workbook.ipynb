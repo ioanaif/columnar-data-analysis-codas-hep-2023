{
 "cells": [
  {
   "cell_type": "markdown",
   "id": "76987c2b-29f7-47dc-8393-47d278f48e67",
   "metadata": {
    "tags": []
   },
   "source": [
    "# CoDaS-HEP Columnar Data Analysis, hands-on project workbook"
   ]
  },
  {
   "cell_type": "markdown",
   "id": "f7521a23-e6e7-433f-92e6-8263ee2b977f",
   "metadata": {},
   "source": [
    "This is the fourth notebook, the workbook, for the [columnar data analysis](https://indico.cern.ch/event/1287965/timetable/#41-columnar-data-analysis) tutorial, presented at CoDaS-HEP at 13:30pm on July 20, 2023 by Jim Pivarski and Ioana Ifrim.\n",
    "\n",
    "See the [GitHub repo](https://github.com/ioanaif/columnar-data-analysis-codas-hep-2023) for instructions on how to run it."
   ]
  },
  {
   "cell_type": "markdown",
   "id": "a5fac634-c124-4846-8643-173ae6a2fdcc",
   "metadata": {},
   "source": [
    "<br><br><br><br><br>"
   ]
  },
  {
   "cell_type": "markdown",
   "id": "b236d398-1cd6-4553-bcb2-5101515499b9",
   "metadata": {},
   "source": [
    "## Project: discover the Higgs!"
   ]
  },
  {
   "cell_type": "markdown",
   "id": "9ebf41d8-1f4c-43b7-9d5b-354fe6518a96",
   "metadata": {},
   "source": [
    "Gather into groups of 2 or 3 to work on the problems posed in the rest of this notebook.\n",
    "\n",
    "Jim and Ioana will be walking around the room, answering questions and providing hints."
   ]
  },
  {
   "cell_type": "markdown",
   "id": "45475d48-4041-4f83-9115-97cf8f149c70",
   "metadata": {
    "tags": []
   },
   "source": [
    "## Data Setup"
   ]
  },
  {
   "cell_type": "code",
   "execution_count": null,
   "id": "20b9a3d0-2d40-4308-af40-28bd70571925",
   "metadata": {
    "tags": []
   },
   "outputs": [],
   "source": [
    "import sys\n",
    "if sys.platform == 'emscripten':\n",
    "    # Install packages in the browser\n",
    "    import piplite\n",
    "    await piplite.install(['awkward>=2.0', 'particle', 'vector', 'hist[plot]', 'scipy'])"
   ]
  },
  {
   "cell_type": "code",
   "execution_count": null,
   "id": "11cf3602-7495-4017-ae6e-7c1ef37406be",
   "metadata": {
    "tags": []
   },
   "outputs": [],
   "source": [
    "import h5py, json, hist, vector\n",
    "import matplotlib.pyplot as plt\n",
    "import numpy as np\n",
    "import awkward as ak\n",
    "\n",
    "vector.register_awkward()"
   ]
  },
  {
   "cell_type": "code",
   "execution_count": null,
   "id": "dd84937c-760e-467c-804c-6b497eb40304",
   "metadata": {
    "tags": []
   },
   "outputs": [],
   "source": [
    "rf = h5py.File(\"data/SMHiggsToZZTo4L-structured.hdf5\", \"r\")\n",
    "events = ak.from_buffers(\n",
    "    ak.forms.from_json(rf['awkward'].attrs[\"form\"]),\n",
    "    json.loads(rf['awkward'].attrs[\"length\"]),\n",
    "    {k: np.asarray(v) for k, v in rf['awkward'].items()},\n",
    ")"
   ]
  },
  {
   "cell_type": "code",
   "execution_count": null,
   "id": "8f177875-5288-4eb3-8b33-e40f8acf3b46",
   "metadata": {
    "jupyter": {
     "source_hidden": true
    },
    "tags": []
   },
   "outputs": [],
   "source": [
    "#data set up back-up\n",
    "if sys.platform == 'emscripten':\n",
    "    from urllib.request import urlopen\n",
    "    from js import fetch\n",
    "\n",
    "    URL = \"https://cernbox.cern.ch/remote.php/dav/public-files/YaGdBL1FneiX7jQ/worbook-data.json\"\n",
    "\n",
    "    res = await fetch(URL)\n",
    "    text = await res.text()\n",
    "\n",
    "    raw_data = ak.from_json(text)\n",
    "    events = ak.zip({\n",
    "        \"PV\": ak.zip({\n",
    "            \"x\": raw_data[\"PV_x\"],\n",
    "            \"y\": raw_data[\"PV_y\"],\n",
    "            \"z\": raw_data[\"PV_z\"],\n",
    "        }, with_name=\"Vector3D\"),\n",
    "        \"muons\": ak.zip({\n",
    "            \"pt\": raw_data[\"Muon_pt\"],\n",
    "            \"phi\": raw_data[\"Muon_phi\"],\n",
    "            \"eta\": raw_data[\"Muon_eta\"],\n",
    "            \"mass\": raw_data[\"Muon_mass\"],\n",
    "            \"charge\": raw_data[\"Muon_charge\"],\n",
    "            \"pfRelIso03\": raw_data[\"Muon_pfRelIso03_all\"],\n",
    "            \"pfRelIso04\": raw_data[\"Muon_pfRelIso04_all\"],\n",
    "        }, with_name=\"Momentum4D\"),\n",
    "        \"electrons\": ak.zip({\n",
    "            \"pt\": raw_data[\"Electron_pt\"],\n",
    "            \"phi\": raw_data[\"Electron_phi\"],\n",
    "            \"eta\": raw_data[\"Electron_eta\"],\n",
    "            \"mass\": raw_data[\"Electron_mass\"],\n",
    "            \"charge\": raw_data[\"Electron_charge\"],\n",
    "            \"pfRelIso03\": raw_data[\"Electron_pfRelIso03_all\"],\n",
    "        }, with_name=\"Momentum4D\"),\n",
    "        \"MET\": ak.zip({\n",
    "            \"pt\": raw_data[\"MET_pt\"],\n",
    "            \"phi\": raw_data[\"MET_phi\"],\n",
    "        }, with_name=\"Momentum2D\"),\n",
    "    }, depth_limit=1)"
   ]
  },
  {
   "cell_type": "markdown",
   "id": "e8fb8ebc-8127-4b9b-add2-2e38c68c2dee",
   "metadata": {},
   "source": [
    "<br><br><br><br><br>"
   ]
  },
  {
   "cell_type": "markdown",
   "id": "1f1508f5-ae16-41ab-9d2a-61e22768a697",
   "metadata": {},
   "source": [
    "### Higgs mass peak: 4 leptons of the same flavor"
   ]
  },
  {
   "cell_type": "markdown",
   "id": "dfb0246b-dfb9-4b65-976e-fc65493b3036",
   "metadata": {},
   "source": [
    "Instead of a Z mass peak, formed with 2 muons (or 2 electrons), draw a Higgs mass peak with 4 muons (or 4 electrons).\n",
    "\n",
    "No need for any cuts, yet. Focus only on the combinatorics.\n",
    "\n",
    "**Hint:** look at the [ak.combinations](https://awkward-array.readthedocs.io/en/latest/_auto/ak.combinations.html) documentation to find the argument you need to change.\n",
    "\n",
    "**Hint:** do it in small steps! That's what an interactive environment is for."
   ]
  },
  {
   "cell_type": "code",
   "execution_count": null,
   "id": "6a4f2ed6-d549-4065-82ae-35026b8bf839",
   "metadata": {
    "tags": []
   },
   "outputs": [],
   "source": [
    "# your work goes here; make new cells if you need to!"
   ]
  },
  {
   "cell_type": "code",
   "execution_count": null,
   "id": "555a7486-9a57-43ea-be2c-2afd8c7347ab",
   "metadata": {
    "tags": []
   },
   "outputs": [],
   "source": []
  },
  {
   "cell_type": "code",
   "execution_count": null,
   "id": "19fe98a1-4fa7-4ed3-a622-9af6be6e8697",
   "metadata": {},
   "outputs": [],
   "source": []
  },
  {
   "cell_type": "code",
   "execution_count": null,
   "id": "dd0f3bda-7371-4ee6-be11-d3ac030fe1c6",
   "metadata": {},
   "outputs": [],
   "source": []
  },
  {
   "cell_type": "code",
   "execution_count": null,
   "id": "0fca517e",
   "metadata": {},
   "outputs": [],
   "source": []
  },
  {
   "attachments": {
    "eb9d1a70-c990-49b5-9c3f-98afcaf4478c.png": {
     "image/png": "[encoded data removed]"
    }
   },
   "cell_type": "markdown",
   "id": "c2de34d2-a4ff-4969-829f-33b47a343a02",
   "metadata": {},
   "source": [
    "Should look like:\n",
    "\n",
    "![image.png](attachment:eb9d1a70-c990-49b5-9c3f-98afcaf4478c.png)"
   ]
  },
  {
   "cell_type": "markdown",
   "id": "88b7504c-f569-4a5a-bfbe-da8d7606a6c7",
   "metadata": {},
   "source": [
    "<br><br><br><br><br>"
   ]
  },
  {
   "cell_type": "markdown",
   "id": "b516bd97-af41-421f-bbc6-bc36e17cbacf",
   "metadata": {
    "tags": []
   },
   "source": [
    "### Charge-based collections"
   ]
  },
  {
   "cell_type": "markdown",
   "id": "a4091d2a-b274-452f-bf0d-67f058cbbfe6",
   "metadata": {},
   "source": [
    "Because of the way that particles are measured and reconstructed, different particle types (electron versus muon) are in different collections, but different charges are not.\n",
    "\n",
    "But physically, charge is a quantum number just like flavor (particle type), and it can be convenient to put different charges into different collections."
   ]
  },
  {
   "cell_type": "code",
   "execution_count": null,
   "id": "2cc4393c-ba64-406c-a555-486195f44665",
   "metadata": {
    "tags": []
   },
   "outputs": [],
   "source": [
    "muons_plus  = events.muons[events.muons.charge > 0]\n",
    "muons_minus = events.muons[events.muons.charge < 0]\n",
    "electrons_plus  = events.electrons[events.electrons.charge > 0]\n",
    "electrons_minus = events.electrons[events.electrons.charge < 0]"
   ]
  },
  {
   "cell_type": "markdown",
   "id": "4d3d070a-f658-48ae-ad48-9e278e3b2fd1",
   "metadata": {},
   "source": [
    "<br><br><br><br><br>\n",
    "\n",
    "Now we can make opposite-sign Z peaks without applying a cut to the combinations.\n",
    "\n",
    "Also, the [ak.combinations](https://awkward-array.readthedocs.io/en/latest/_auto/ak.combinations.html) problem (picking $n$ items from a single collection) has become an [ak.cartesian](https://awkward-array.readthedocs.io/en/latest/_auto/ak.cartesian.html) problem (finding all pairs of items drawn from different collections)."
   ]
  },
  {
   "cell_type": "code",
   "execution_count": null,
   "id": "cf47f132-0296-471f-9db1-69cc12413654",
   "metadata": {
    "tags": []
   },
   "outputs": [],
   "source": [
    "mu1, mu2 = ak.unzip(ak.cartesian((muons_plus, muons_minus)))\n",
    "hist.Hist.new.Regular(100, 0, 150).Double().fill(ak.ravel((mu1 + mu2).mass)).plot();"
   ]
  },
  {
   "cell_type": "markdown",
   "id": "17fa9a03-c235-4706-b324-ba878fcf3325",
   "metadata": {},
   "source": [
    "<br><br>\n",
    "\n",
    "(This section doesn't have any questions; it's to set things up for the next section.)"
   ]
  },
  {
   "cell_type": "markdown",
   "id": "bb8e9940-c94f-4880-a599-b0f605400b6b",
   "metadata": {},
   "source": [
    "<br><br><br><br><br>"
   ]
  },
  {
   "cell_type": "markdown",
   "id": "4d907502-82f2-439c-b8c6-be325b9c4725",
   "metadata": {},
   "source": [
    "### Higgs mass peak: the H → ZZ → 2μ2e final state"
   ]
  },
  {
   "cell_type": "markdown",
   "id": "bddbd99b-c6bf-4ef2-adef-5c3a1093eba9",
   "metadata": {},
   "source": [
    "Now that you have `muons_plus`, `muons_minus`, `electrons_plus`, and `electrons_minus`, how would you make a Higgs mass peak for decays into 2 muons and 2 electrons?\n",
    "\n",
    "**Hint:** [ak.cartesian](https://awkward-array.readthedocs.io/en/latest/_auto/ak.cartesian.html) can take more than two input collections.\n",
    "\n",
    "**Hint:** still no need for cuts, thanks to the input collections already having the charge-cut applied."
   ]
  },
  {
   "cell_type": "code",
   "execution_count": null,
   "id": "e3647185-3cc0-40d0-bdd7-805eb0c79c81",
   "metadata": {},
   "outputs": [],
   "source": [
    "# your work goes here; make new cells if you need to!"
   ]
  },
  {
   "cell_type": "code",
   "execution_count": null,
   "id": "c562816c-c403-4138-8e5e-00e6eb88b229",
   "metadata": {},
   "outputs": [],
   "source": []
  },
  {
   "cell_type": "code",
   "execution_count": null,
   "id": "5113ac27-2435-4620-9ead-46f14df67284",
   "metadata": {},
   "outputs": [],
   "source": []
  },
  {
   "cell_type": "code",
   "execution_count": null,
   "id": "c194f129-326d-43c7-aa55-4cfebe1418a8",
   "metadata": {},
   "outputs": [],
   "source": []
  },
  {
   "cell_type": "code",
   "execution_count": null,
   "id": "75b5d306-7384-4874-b4e5-4072d0b482be",
   "metadata": {},
   "outputs": [],
   "source": []
  },
  {
   "attachments": {
    "1b990144-5727-4197-a3e9-3723a853a454.png": {
     "image/png": "[encoded data removed]"
    }
   },
   "cell_type": "markdown",
   "id": "c46e7bda-c663-48a2-a3a6-6f9bd458ee7b",
   "metadata": {},
   "source": [
    "Should look like:\n",
    "\n",
    "![image.png](attachment:1b990144-5727-4197-a3e9-3723a853a454.png)"
   ]
  },
  {
   "cell_type": "markdown",
   "id": "faea1e66-2032-4b82-b92c-f190b9e0e540",
   "metadata": {},
   "source": [
    "<br><br><br><br><br>"
   ]
  },
  {
   "cell_type": "markdown",
   "id": "3b8e8b64-df3b-4541-90f3-fb2f03689e95",
   "metadata": {},
   "source": [
    "### Select on-shell Z in the 2μ2e final state"
   ]
  },
  {
   "cell_type": "markdown",
   "id": "cf4aa2f2-1ff4-49d3-b0e7-7744bd215597",
   "metadata": {},
   "source": [
    "In H → ZZ, one of the two Z bosons will usually be close to its \"on-shell\" mass of 91 GeV."
   ]
  },
  {
   "cell_type": "code",
   "execution_count": null,
   "id": "e93f3b1a-fa78-4bd1-be8a-7a662f296188",
   "metadata": {
    "tags": []
   },
   "outputs": [],
   "source": [
    "import particle\n",
    "import hepunits\n",
    "\n",
    "ZMASS = particle.Particle.findall(\"Z0\")[0].mass / hepunits.GeV\n",
    "ZMASS"
   ]
  },
  {
   "cell_type": "markdown",
   "id": "96f8a78c-cd42-4ff2-a9c8-0f30a95b7c7d",
   "metadata": {},
   "source": [
    "With a pair of muons,"
   ]
  },
  {
   "cell_type": "code",
   "execution_count": null,
   "id": "20c4950b-e2f9-4c95-8c32-647ff4af226a",
   "metadata": {
    "tags": []
   },
   "outputs": [],
   "source": [
    "mu1, mu2 = ak.unzip(ak.cartesian((muons_plus, muons_minus)))\n",
    "e1, e2 = ak.unzip(ak.cartesian((electrons_plus, electrons_minus)))"
   ]
  },
  {
   "cell_type": "code",
   "execution_count": null,
   "id": "b5a00ad5-88ab-4eaa-9dac-5a2b5b67cd2d",
   "metadata": {
    "tags": []
   },
   "outputs": [],
   "source": [
    "hist.Hist.new.Regular(100, 0, 150).Double().fill(ak.ravel((mu1 + mu2).mass)).plot();"
   ]
  },
  {
   "cell_type": "markdown",
   "id": "7e08bddd-feec-4a3b-b091-daa6a14b0862",
   "metadata": {},
   "source": [
    "We can construct a dimuon mass and compute the absolute distance between that and the on-shell mass of 91 GeV."
   ]
  },
  {
   "cell_type": "code",
   "execution_count": null,
   "id": "42c8bcd5-a16b-4c37-98c2-40d0a1290377",
   "metadata": {
    "tags": []
   },
   "outputs": [],
   "source": [
    "abs((mu1 + mu2).mass - ZMASS)"
   ]
  },
  {
   "cell_type": "code",
   "execution_count": null,
   "id": "05df3466-9004-4807-b883-d160c9880cc9",
   "metadata": {
    "tags": []
   },
   "outputs": [],
   "source": [
    "ak.ravel(abs((mu1 + mu2).mass - ZMASS))"
   ]
  },
  {
   "cell_type": "markdown",
   "id": "52b1a83f-0efd-4bc9-b7af-ab7bf06ef7c6",
   "metadata": {},
   "source": [
    "When this is close enough—let's say 20 GeV—we can call a given dimuon pair to be \"on shell.\""
   ]
  },
  {
   "cell_type": "code",
   "execution_count": null,
   "id": "e32e385b-0e83-4133-94fb-dc5e53517529",
   "metadata": {
    "tags": []
   },
   "outputs": [],
   "source": [
    "onshell_mumu = abs((mu1 + mu2).mass - ZMASS) < 20"
   ]
  },
  {
   "cell_type": "markdown",
   "id": "ccb3abb3-d1d9-4c7a-96f8-9bf5dccb27b4",
   "metadata": {},
   "source": [
    "The effect of this is a sharp cut-off in the Z mass distribution."
   ]
  },
  {
   "cell_type": "code",
   "execution_count": null,
   "id": "9f76ae3f-fabc-4548-b913-ef4375532d5e",
   "metadata": {
    "tags": []
   },
   "outputs": [],
   "source": [
    "hist.Hist.new.Regular(100, 0, 150).Double().fill(ak.ravel((mu1 + mu2)[onshell_mumu].mass)).plot();"
   ]
  },
  {
   "cell_type": "markdown",
   "id": "39cb92c7-bfe9-48a6-a98d-ba28e012dbe9",
   "metadata": {},
   "source": [
    "In this section, make another 2μ2e mass peak in which _either_ the 2μ is on-shell _or_ the 2e is on-shell.\n",
    "\n",
    "(That's an \"inclusive or\": having both be close to 91 GeV is allowed.)\n",
    "\n",
    "**Hint:** You'll have to compute the Z mass constraint from muons and electrons in a 4-way Cartesian product, not just the 2 muons as in my example above.\n",
    "\n",
    "**Hint:** To make logical combinations of cuts, use `|` for \"or\" and `&` for \"and\". Also, put parentheses around any comparisons: e.g. `is_good & ((1 < x) | (x < 2))`."
   ]
  },
  {
   "cell_type": "code",
   "execution_count": null,
   "id": "17d89584-f206-4d0d-ac6e-dbab2fe5ce3d",
   "metadata": {},
   "outputs": [],
   "source": []
  },
  {
   "cell_type": "code",
   "execution_count": null,
   "id": "733a31d3-801e-4249-910c-5bc93ff4b5f7",
   "metadata": {},
   "outputs": [],
   "source": []
  },
  {
   "cell_type": "code",
   "execution_count": null,
   "id": "8660b560-f6ec-4148-8b48-95745a81330a",
   "metadata": {},
   "outputs": [],
   "source": []
  },
  {
   "cell_type": "code",
   "execution_count": null,
   "id": "f19df688-433f-4800-8624-02a79b97b60e",
   "metadata": {},
   "outputs": [],
   "source": []
  },
  {
   "attachments": {
    "c1dbdd8a-bb09-479b-97c7-3037ec7c0930.png": {
     "image/png": "[encoded data removed]"
    }
   },
   "cell_type": "markdown",
   "id": "28b080bd-e4f0-4e13-8148-0037135e6fd6",
   "metadata": {},
   "source": [
    "Should look like:\n",
    "\n",
    "![image.png](attachment:c1dbdd8a-bb09-479b-97c7-3037ec7c0930.png)"
   ]
  },
  {
   "cell_type": "markdown",
   "id": "ec935062-ba17-40a9-bf2b-5df8ce3be1a4",
   "metadata": {},
   "source": [
    "<br><br><br><br><br>"
   ]
  },
  {
   "cell_type": "markdown",
   "id": "f1faf562-443f-4bc7-b818-6dcca73f0cc7",
   "metadata": {},
   "source": [
    "## Select on-shell Z in the 4μ final state"
   ]
  },
  {
   "cell_type": "markdown",
   "id": "a4fe776d-42e8-4b9c-83b4-81542ca498ae",
   "metadata": {},
   "source": [
    "Addressing Z boson properties in the 2μ2e case is easier than in the 4μ or 4e cases because with each (μ⁺, μ⁻, e⁺, e⁻) quad-tuple, there is only one way to identify each of the two Z bosons: Zᵤᵤ → μ⁺μ⁻ and Zₑₑ → e⁺e⁻.\n",
    "\n",
    "In a same-flavor final state, you have quad-tuples like (μ⁺₁, μ⁻₁, μ⁺₂, μ⁻₂).\n",
    "\n",
    "The possible decays are\n",
    "\n",
    "   * Z₁₁ → μ⁺₁, μ⁻₁ and Z₂₂ → μ⁺₂, μ⁻₂\n",
    "   * Z₁₂ → μ⁺₁, μ⁻₂ and Z₂₁ → μ⁺₂, μ⁻₁\n",
    "\n",
    "and within each of the two possibilities, only one of the Z bosons will be on-shell. (The Higgs doesn't have enough mass for both to be on-shell.)\n",
    "\n",
    "To apply Z cuts in this case, we need to apply a combinatoric primitive to the result of a combinatoric primitive: nested combinatorics.\n",
    "\n",
    "First, from the `muons_plus` collection, we draw two distinct muons and call them `muplus1` and `muplus2`.\n",
    "\n",
    "Then, from the `muons_minus` collection, we draw two distinct muons and call them `muminus1` and `muminus2`."
   ]
  },
  {
   "cell_type": "code",
   "execution_count": null,
   "id": "9207b225-c36a-4779-a4c3-e0dc1687af09",
   "metadata": {
    "tags": []
   },
   "outputs": [],
   "source": [
    "muplus1, muplus2 = ak.unzip(ak.combinations(muons_plus, 2))\n",
    "muminus1, muminus2 = ak.unzip(ak.combinations(muons_minus, 2))"
   ]
  },
  {
   "cell_type": "markdown",
   "id": "2a1cca0e-1aa3-4314-af38-20e398a66230",
   "metadata": {},
   "source": [
    "Next, we need to find pairwise Cartesian products of each opposite-charge combination:\n",
    "\n",
    "   * pairs of `muplus1 ⊗ muminus1`, which can be labeled \"11\"\n",
    "   * pairs of `muplus1 ⊗ muminus2`, which can be labeled \"12\"\n",
    "   * pairs of `muplus2 ⊗ muminus1`, which can be labeled \"21\"\n",
    "   * pairs of `muplus2 ⊗ muminus2`, which can be labeled \"22\"\n",
    "\n",
    "Note that every real combination will either be a \"11\" and \"22\" or it will be a \"12\" and \"21\"."
   ]
  },
  {
   "cell_type": "code",
   "execution_count": null,
   "id": "519b2504-fc44-49ed-9a63-0a95b27c1307",
   "metadata": {
    "tags": []
   },
   "outputs": [],
   "source": [
    "muplus11, muminus11 = ak.unzip(ak.cartesian((muplus1, muminus1)))\n",
    "muplus12, muminus12 = ak.unzip(ak.cartesian((muplus1, muminus2)))\n",
    "muplus21, muminus21 = ak.unzip(ak.cartesian((muplus2, muminus1)))\n",
    "muplus22, muminus22 = ak.unzip(ak.cartesian((muplus2, muminus2)))"
   ]
  },
  {
   "cell_type": "markdown",
   "id": "5a524653-282e-4f9b-903b-da46194599f4",
   "metadata": {},
   "source": [
    "By construction each of these four collections has the same number of items in each event."
   ]
  },
  {
   "cell_type": "code",
   "execution_count": null,
   "id": "0770c35d-172f-4fdf-ae9a-954ef3ff6564",
   "metadata": {
    "tags": []
   },
   "outputs": [],
   "source": [
    "ak.num(muplus11), ak.num(muplus12), ak.num(muplus21), ak.num(muplus22)"
   ]
  },
  {
   "cell_type": "code",
   "execution_count": null,
   "id": "5fda22ac-bab1-494d-9f6b-c181eabdd9ae",
   "metadata": {
    "tags": []
   },
   "outputs": [],
   "source": [
    "ak.all((ak.num(muplus11) == ak.num(muplus12)) & (ak.num(muplus21) == ak.num(muplus22)) & (ak.num(muplus11) == ak.num(muplus22)))"
   ]
  },
  {
   "cell_type": "markdown",
   "id": "4f762d7c-eb9a-4458-9f78-da7a435b977d",
   "metadata": {},
   "source": [
    "We can look at the four possible Z bosons individually.\n",
    "\n",
    "First the \"11\" and \"22\":"
   ]
  },
  {
   "cell_type": "code",
   "execution_count": null,
   "id": "68c6e0bd-9490-4881-b23f-9231ab7b6487",
   "metadata": {
    "tags": []
   },
   "outputs": [],
   "source": [
    "hist.Hist.new.Regular(100, 0, 150).Double().fill(ak.ravel((muplus11 + muminus11).mass)).plot();"
   ]
  },
  {
   "cell_type": "code",
   "execution_count": null,
   "id": "e67ca40d-b011-4dc2-b568-bd2fa26c5c9d",
   "metadata": {
    "tags": []
   },
   "outputs": [],
   "source": [
    "hist.Hist.new.Regular(100, 0, 150).Double().fill(ak.ravel((muplus22 + muminus22).mass)).plot();"
   ]
  },
  {
   "cell_type": "markdown",
   "id": "03f5cd5c-d291-42e4-8347-4daddb466d8f",
   "metadata": {},
   "source": [
    "Now the \"12\" and \"21\":"
   ]
  },
  {
   "cell_type": "code",
   "execution_count": null,
   "id": "1e191756-2743-49c3-8338-f41c2c9317f0",
   "metadata": {
    "tags": []
   },
   "outputs": [],
   "source": [
    "hist.Hist.new.Regular(100, 0, 150).Double().fill(ak.ravel((muplus12 + muminus12).mass)).plot();"
   ]
  },
  {
   "cell_type": "code",
   "execution_count": null,
   "id": "b75ce982-98cb-4591-8e44-98ded896c08f",
   "metadata": {
    "tags": []
   },
   "outputs": [],
   "source": [
    "hist.Hist.new.Regular(100, 0, 150).Double().fill(ak.ravel((muplus21 + muminus21).mass)).plot();"
   ]
  },
  {
   "cell_type": "markdown",
   "id": "6b4eceb9-6800-490e-9625-29f0991186ea",
   "metadata": {},
   "source": [
    "They all have large backgrounds because they're often not the right combination.\n",
    "\n",
    "Now we'll make distances as we did in the previous section."
   ]
  },
  {
   "cell_type": "code",
   "execution_count": null,
   "id": "f57f6cd1-c14e-4870-aa3e-b319cf544f9e",
   "metadata": {
    "tags": []
   },
   "outputs": [],
   "source": [
    "dist11 = abs((muplus11 + muminus11).mass - ZMASS)\n",
    "dist12 = abs((muplus12 + muminus12).mass - ZMASS)\n",
    "dist21 = abs((muplus21 + muminus21).mass - ZMASS)\n",
    "dist22 = abs((muplus22 + muminus22).mass - ZMASS)"
   ]
  },
  {
   "cell_type": "markdown",
   "id": "09d20609-1ae4-404f-982b-0c42e39ff94a",
   "metadata": {},
   "source": [
    "Because we have so many possibilities, let's define cuts like `onshell_11` to mean \"11 is the closest to being on-shell.\"\n",
    "\n",
    "That doesn't mean it's within 20 GeV of 91 GeV; it just means that it's closer than the others.\n",
    "\n",
    "(The organization of the cuts is as follows: for each \"11\", \"12\", \"21\", \"22\", the relevant `dist` is to the left of `<` in all comparisons, and the three other `dist` values it's being compared to are every other \"11\", \"12\", \"21\", \"22\" combination.)"
   ]
  },
  {
   "cell_type": "code",
   "execution_count": null,
   "id": "187f1b3a-a179-4193-badf-4d6690faef50",
   "metadata": {
    "tags": []
   },
   "outputs": [],
   "source": [
    "onshell_11 = (dist11 < dist12) & (dist11 < dist21) & (dist11 < dist22)\n",
    "onshell_12 = (dist12 < dist11) & (dist12 < dist21) & (dist12 < dist22)\n",
    "onshell_21 = (dist21 < dist11) & (dist21 < dist12) & (dist21 < dist22)\n",
    "onshell_22 = (dist22 < dist11) & (dist22 < dist12) & (dist22 < dist21)"
   ]
  },
  {
   "cell_type": "markdown",
   "id": "ad4e1a94-ed5d-4a2c-bf6e-fb8dfe35b287",
   "metadata": {},
   "source": [
    "Now let's look at a Z → 2μ mass plot of \"11\" in which \"11\" is the closest to being on-shell.\n",
    "\n",
    "Naturally, there's a more pronounced peak."
   ]
  },
  {
   "cell_type": "code",
   "execution_count": null,
   "id": "4f7e3a39-8686-4224-9eea-530233644d8c",
   "metadata": {
    "tags": []
   },
   "outputs": [],
   "source": [
    "h = hist.Hist.new.Regular(100, 0, 150).Double()\n",
    "\n",
    "h.fill(ak.ravel((muplus11 + muminus11)[onshell_11].mass))\n",
    "\n",
    "h.plot();"
   ]
  },
  {
   "cell_type": "markdown",
   "id": "29fcb624-41fe-472a-9453-326454074598",
   "metadata": {},
   "source": [
    "Now let's look at H → ZZ → 4μ for\n",
    "\n",
    "   * \"11\" and \"22\" if \"11\" is on-shell or \"22\" is on-shell\n",
    "   * \"12\" and \"21\" if \"12\" is on-shell or \"21\" is on-shell"
   ]
  },
  {
   "cell_type": "code",
   "execution_count": null,
   "id": "393ecd62-7e6e-4710-af68-4e14274517b0",
   "metadata": {
    "tags": []
   },
   "outputs": [],
   "source": [
    "h = hist.Hist.new.Regular(100, 0, 150).Double()\n",
    "\n",
    "h.fill(ak.ravel((muplus11 + muminus11 + muplus22 + muminus22)[onshell_11 | onshell_22].mass))\n",
    "h.fill(ak.ravel((muplus12 + muminus21 + muplus12 + muminus21)[onshell_12 | onshell_21].mass))\n",
    "\n",
    "h.plot();"
   ]
  },
  {
   "cell_type": "markdown",
   "id": "4a968eff-2520-45c4-b553-021b69433886",
   "metadata": {},
   "source": [
    "To go further and require \"11\" to be within 20 GeV of 91 GeV when it's already the closest to it would be a cut like the following:"
   ]
  },
  {
   "cell_type": "code",
   "execution_count": null,
   "id": "24a9a70e-9082-4717-ad5c-e57dc1f6fa14",
   "metadata": {
    "tags": []
   },
   "outputs": [],
   "source": [
    "onshell_11 & (dist11 < 20)"
   ]
  },
  {
   "cell_type": "markdown",
   "id": "ac0e3f8d-ad8a-4673-aab6-03e5e02d47f2",
   "metadata": {},
   "source": [
    "Now re-make the above plot, but require whichever muon pair is closest to being on-shell to be within 20 GeV of it."
   ]
  },
  {
   "cell_type": "code",
   "execution_count": null,
   "id": "da68cb71-e458-4dba-b9c1-1e8e726664fb",
   "metadata": {
    "tags": []
   },
   "outputs": [],
   "source": [
    "# your work goes here; make new cells if you need to!"
   ]
  },
  {
   "cell_type": "code",
   "execution_count": null,
   "id": "ded38687-3b48-41ca-99ee-678d5d361f28",
   "metadata": {},
   "outputs": [],
   "source": []
  },
  {
   "cell_type": "code",
   "execution_count": null,
   "id": "18c8d7e0-ec93-4b26-a031-b2066ac56d91",
   "metadata": {},
   "outputs": [],
   "source": []
  },
  {
   "cell_type": "code",
   "execution_count": null,
   "id": "49cfac2b-eb6d-4938-b00c-43fe732087eb",
   "metadata": {},
   "outputs": [],
   "source": []
  },
  {
   "cell_type": "code",
   "execution_count": null,
   "id": "fd38a4cc-10e0-4390-9d52-dd3038f8dcef",
   "metadata": {},
   "outputs": [],
   "source": []
  },
  {
   "attachments": {
    "532c2bed-fb68-4d0f-872d-b35b43b1c51c.png": {
     "image/png": "[encoded data removed]"
    }
   },
   "cell_type": "markdown",
   "id": "ce1f95fc-b135-4b02-9165-a6d8d31b5cff",
   "metadata": {},
   "source": [
    "Should look like:\n",
    "\n",
    "![image.png](attachment:532c2bed-fb68-4d0f-872d-b35b43b1c51c.png)\n",
    "\n",
    "(And compare that to the 4 muon mass without any Z mass constraints!)"
   ]
  },
  {
   "cell_type": "markdown",
   "id": "5dda939b-b174-46bb-95eb-364f579a6670",
   "metadata": {},
   "source": [
    "<br><br><br><br><br>"
   ]
  },
  {
   "cell_type": "markdown",
   "id": "2ecc0cef-833f-4be0-ba38-d848b18a480e",
   "metadata": {},
   "source": [
    "### Commentary"
   ]
  },
  {
   "cell_type": "markdown",
   "id": "afd8710b-0a0a-414e-8fc5-fa2cd407c30a",
   "metadata": {},
   "source": [
    "Dealing with combinatorics is complex, but by reducing the single μ collection into a μ⁺ collection and a μ⁻ collection, it becomes easier (and more memory efficient) to consider all combinations without having to apply charge constraints after the fact.\n",
    "\n",
    "Objects like `muplus11`, representing the μ⁺ in all \"11\" combinations, can be dealt with like scalars, like the single \"11\" μ⁺ inside a nested loop over combinations in imperative programming. (No array-length changing operations were performed after the two [ak.combinations](https://awkward-array.readthedocs.io/en/latest/_auto/ak.combinations.html), [ak.cartesian](https://awkward-array.readthedocs.io/en/latest/_auto/ak.cartesian.html) steps in the last section.)\n",
    "\n",
    "But because the `muplus11` object represents the μ⁺ in _all_ \"11\" combinations, we can plot distributions of what we're computing at every step, rather than just once at the end of a script, which is great for debugging.\n",
    "\n",
    "That's the value of array-oriented programming—the ability to look at _distributions_ of each step while you develop the script—if you take advantage of that opportunity."
   ]
  },
  {
   "cell_type": "markdown",
   "id": "12797811-c3e7-4bbc-b636-5f34128fad3c",
   "metadata": {},
   "source": [
    "<br><br><br><br><br>"
   ]
  },
  {
   "cell_type": "markdown",
   "id": "54bb36a7-7e47-4684-80b8-ccddcd14754f",
   "metadata": {
    "tags": []
   },
   "source": [
    "# The end!"
   ]
  }
 ],
 "metadata": {
  "kernelspec": {
   "display_name": "Python 3 (ipykernel)",
   "language": "python",
   "name": "python3"
  },
  "language_info": {
   "codemirror_mode": {
    "name": "ipython",
    "version": 3
   },
   "file_extension": ".py",
   "mimetype": "text/x-python",
   "name": "python",
   "nbconvert_exporter": "python",
   "pygments_lexer": "ipython3",
   "version": "3.10.0"
  }
 },
 "nbformat": 4,
 "nbformat_minor": 5
}
